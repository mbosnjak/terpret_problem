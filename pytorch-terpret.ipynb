{
 "cells": [
  {
   "cell_type": "code",
   "execution_count": 2,
   "metadata": {},
   "outputs": [],
   "source": [
    "import torch"
   ]
  },
  {
   "cell_type": "code",
   "execution_count": 418,
   "metadata": {},
   "outputs": [],
   "source": [
    "k = 30"
   ]
  },
  {
   "cell_type": "code",
   "execution_count": 577,
   "metadata": {},
   "outputs": [
    {
     "data": {
      "text/plain": [
       "tensor([100.,  99.,  99.,  50.,   1.,   1.,   1.,   1.,   2.,  50.,  99.,  99.,\n",
       "         99.,  99.,  50.,   1.,   1.,  50.,  99.,  99.,  99.,  99.,  99.,  99.,\n",
       "         99.,  99.,  99.,  99.,  99.,  99.,  99.], grad_fn=<RoundBackward>)"
      ]
     },
     "execution_count": 577,
     "metadata": {},
     "output_type": "execute_result"
    }
   ],
   "source": [
    "mu = torch.randn(k,  requires_grad=True)\n",
    "optimizer = torch.optim.SGD([mu], lr=1e-2)\n",
    "for t in range(0,10000):\n",
    "    x = torch.cat((torch.tensor([1.0]), torch.sigmoid(mu)))\n",
    "    z = torch.cat((x[-1:], x[:-1])) \n",
    "    equi = x * z + (1-x) * (1-z)\n",
    "    all_equi = torch.prod(equi)\n",
    "    loss = -torch.log(all_equi)\n",
    "    optimizer.zero_grad()\n",
    "    loss.backward()\n",
    "    optimizer.step()\n",
    "torch.round(x*100)"
   ]
  },
  {
   "cell_type": "code",
   "execution_count": null,
   "metadata": {},
   "outputs": [],
   "source": [
    "mu = torch.randn(k,  requires_grad=True)"
   ]
  },
  {
   "cell_type": "code",
   "execution_count": 609,
   "metadata": {},
   "outputs": [
    {
     "data": {
      "text/plain": [
       "(tensor(0.0604, grad_fn=<NegBackward>),\n",
       " tensor([100., 100., 100., 100., 100., 100., 100., 100., 100., 100., 100., 100.,\n",
       "         100., 100., 100., 100., 100., 100., 100., 100., 100., 100., 100., 100.,\n",
       "         100., 100., 100., 100., 100., 100., 100.], grad_fn=<RoundBackward>))"
      ]
     },
     "execution_count": 609,
     "metadata": {},
     "output_type": "execute_result"
    }
   ],
   "source": [
    "optimizer = torch.optim.SGD([mu], lr=1e-2)\n",
    "for t in range(0,10000):\n",
    "    x = torch.cat((torch.tensor([1.0]), torch.sigmoid(mu)))\n",
    "    all_equi = torch.prod(x) + torch.prod(1.0 - x)\n",
    "    loss = -torch.log(all_equi)\n",
    "    optimizer.zero_grad()\n",
    "    loss.backward()\n",
    "    optimizer.step()\n",
    "loss, torch.round(x*100)"
   ]
  },
  {
   "cell_type": "code",
   "execution_count": 705,
   "metadata": {},
   "outputs": [
    {
     "data": {
      "text/plain": [
       "(tensor(7.5020e-10, grad_fn=<ThMulBackward>),\n",
       " tensor(4.2494e-11, grad_fn=<ThAddBackward>),\n",
       " tensor(0.0002, grad_fn=<ThAddBackward>))"
      ]
     },
     "execution_count": 705,
     "metadata": {},
     "output_type": "execute_result"
    }
   ],
   "source": [
    "mu = torch.randn(k,  requires_grad=True)\n",
    "x = torch.cat((torch.tensor([1.0]), torch.sigmoid(mu)))\n",
    "def compute_all_equi(x):\n",
    "    all_equi_true = 1.0\n",
    "    all_equi_false = 1.0\n",
    "    for i in range(0,k+1):\n",
    "        prev = i-1 % k\n",
    "        all_equi_true = all_equi_true * x[i]\n",
    "        all_equi_false = all_equi_false * (1-x[i])\n",
    "    return all_equi_false + all_equi_true\n",
    "\n",
    "def compute_all_equi_uncorrected(x):\n",
    "    all_equi_dumb = 1.0\n",
    "    for i in range(0,k+1):\n",
    "        prev = i-1 % k\n",
    "        all_equi_dumb = all_equi_dumb * ((x[i] * x[prev]) + (1-x[i]) * (1-x[prev]))\n",
    "    return all_equi_dumb\n",
    "\n",
    "def compute_all_equi_corrected(x):\n",
    "    all_equi_dumb = 1.0\n",
    "    for i in range(0,k+1):\n",
    "        prev = i-1 % k\n",
    "        \n",
    "        all_equi_dumb = all_equi_dumb * ((x[i] * x[prev]) + (1-x[i]) * (1-x[prev]))\n",
    "        all_equi_dumb += all_equi_dumb * ((x[i] * (1-x[prev])) + (1-x[i]) * x[prev])\n",
    "    return all_equi_dumb\n",
    "\n",
    "compute_all_equi_uncorrected(x), compute_all_equi(x), compute_all_equi_corrected(x)"
   ]
  },
  {
   "cell_type": "code",
   "execution_count": 701,
   "metadata": {},
   "outputs": [
    {
     "data": {
      "text/plain": [
       "(tensor(6.2719, grad_fn=<NegBackward>),\n",
       " tensor([100.,  99.,  99.,  98.,  50.,   3.,   1.,   1.,   1.,   1.,   2.,   2.,\n",
       "           2.,   1.,   2.,  49.,  97.,  99.,  99.,  99.,  99.,  98.,  51.,   3.,\n",
       "           1.,   1.,   1.,   1.,   2.,  49.,  97.], grad_fn=<RoundBackward>))"
      ]
     },
     "execution_count": 701,
     "metadata": {},
     "output_type": "execute_result"
    }
   ],
   "source": [
    "mu = torch.randn(k,  requires_grad=True)\n",
    "optimizer = torch.optim.SGD([mu], lr=1e-1)\n",
    "for t in range(0,400):\n",
    "    x = torch.cat((torch.tensor([1.0]), torch.sigmoid(mu)))\n",
    "#     print(x)\n",
    "#     all_equi = compute_all_equi(x)\n",
    "    all_equi = compute_all_equi_uncorrected(x)\n",
    "    loss = -torch.log(all_equi)\n",
    "    optimizer.zero_grad()\n",
    "    loss.backward()\n",
    "    optimizer.step()\n",
    "#     print(loss)\n",
    "\n",
    "loss, torch.round(x*100)"
   ]
  },
  {
   "cell_type": "code",
   "execution_count": 660,
   "metadata": {},
   "outputs": [
    {
     "ename": "TypeError",
     "evalue": "'Tensor' object is not callable",
     "output_type": "error",
     "traceback": [
      "\u001b[0;31m---------------------------------------------------------------------------\u001b[0m",
      "\u001b[0;31mTypeError\u001b[0m                                 Traceback (most recent call last)",
      "\u001b[0;32m<ipython-input-660-2b32af74442b>\u001b[0m in \u001b[0;36m<module>\u001b[0;34m()\u001b[0m\n\u001b[0;32m----> 1\u001b[0;31m \u001b[0mall_equi\u001b[0m\u001b[0;34m(\u001b[0m\u001b[0mmu\u001b[0m\u001b[0;34m)\u001b[0m\u001b[0;34m\u001b[0m\u001b[0m\n\u001b[0m",
      "\u001b[0;31mTypeError\u001b[0m: 'Tensor' object is not callable"
     ]
    }
   ],
   "source": []
  },
  {
   "cell_type": "code",
   "execution_count": 78,
   "metadata": {},
   "outputs": [
    {
     "data": {
      "text/plain": [
       "(tensor(0.1128), tensor(0.0531))"
      ]
     },
     "execution_count": 78,
     "metadata": {},
     "output_type": "execute_result"
    }
   ],
   "source": [
    "eq_12 = x[0] * x[1] + (1-x[0])*(1 - x[1])\n",
    "eq_12_true = x[0] * x[1]\n",
    "eq_12_false = (1-x[0]) * (1-x[1])\n",
    "eq_123_true =  eq_12_true * x[2]\n",
    "eq_123_false = eq_12_false * (1-x[2])\n",
    "eq_23_true = x[1] * x[2]\n",
    "eq_23_false = (1-x[1])*(1-x[2])\n",
    "eq_123_true, eq_12_true * eq_23_true"
   ]
  }
 ],
 "metadata": {
  "kernelspec": {
   "display_name": "Python 3",
   "language": "python",
   "name": "python3"
  },
  "language_info": {
   "codemirror_mode": {
    "name": "ipython",
    "version": 3
   },
   "file_extension": ".py",
   "mimetype": "text/x-python",
   "name": "python",
   "nbconvert_exporter": "python",
   "pygments_lexer": "ipython3",
   "version": "3.7.0"
  }
 },
 "nbformat": 4,
 "nbformat_minor": 2
}
