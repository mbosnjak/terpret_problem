{
 "cells": [
  {
   "cell_type": "code",
   "execution_count": 1,
   "metadata": {},
   "outputs": [],
   "source": [
    "import torch"
   ]
  },
  {
   "cell_type": "code",
   "execution_count": 2,
   "metadata": {},
   "outputs": [],
   "source": [
    "k = 30"
   ]
  },
  {
   "cell_type": "code",
   "execution_count": 3,
   "metadata": {},
   "outputs": [
    {
     "data": {
      "text/plain": [
       "tensor([100.,  99.,  50.,   1.,   1.,   1.,  50.,  99.,  99.,  99.,  99.,  99.,\n",
       "         99.,  50.,   1.,   1.,   1.,   1.,  50.,  99.,  99.,  99.,  99.,  99.,\n",
       "         99.,  99.,  99.,  99.,  99.,  99.,  99.], grad_fn=<RoundBackward>)"
      ]
     },
     "execution_count": 3,
     "metadata": {},
     "output_type": "execute_result"
    }
   ],
   "source": [
    "mu = torch.randn(k,  requires_grad=True)\n",
    "optimizer = torch.optim.SGD([mu], lr=1e-2)\n",
    "for t in range(0,10000):\n",
    "    x = torch.cat((torch.tensor([1.0]), torch.sigmoid(mu)))\n",
    "    z = torch.cat((x[-1:], x[:-1])) \n",
    "    equi = x * z + (1-x) * (1-z)\n",
    "    all_equi = torch.prod(equi)\n",
    "    loss = -torch.log(all_equi)\n",
    "    optimizer.zero_grad()\n",
    "    loss.backward()\n",
    "    optimizer.step()\n",
    "torch.round(x*100)"
   ]
  },
  {
   "cell_type": "code",
   "execution_count": 4,
   "metadata": {},
   "outputs": [
    {
     "name": "stdout",
     "output_type": "stream",
     "text": [
      "mu: tensor([0., 0., 0., 0., 0., 0., 0., 0., 0., 0., 0., 0., 0., 0., 0., 0., 0., 0.,\n",
      "        0., 0., 0., 0., 0., 0., 0., 0., 0., 0., 0., 0.], requires_grad=True)\n",
      "x: tensor([1.0000, 0.5000, 0.5000, 0.5000, 0.5000, 0.5000, 0.5000, 0.5000, 0.5000,\n",
      "        0.5000, 0.5000, 0.5000, 0.5000, 0.5000, 0.5000, 0.5000, 0.5000, 0.5000,\n",
      "        0.5000, 0.5000, 0.5000, 0.5000, 0.5000, 0.5000, 0.5000, 0.5000, 0.5000,\n",
      "        0.5000, 0.5000, 0.5000, 0.5000], grad_fn=<CatBackward>)\n"
     ]
    },
    {
     "data": {
      "text/plain": [
       "tensor([100.,  99.,  99.,  99.,  99.,  99.,  99.,  99.,  99.,  99.,  99.,  99.,\n",
       "         99.,  99.,  99.,  99.,  99.,  99.,  99.,  99.,  99.,  99.,  99.,  99.,\n",
       "         99.,  99.,  99.,  99.,  99.,  99.,  99.], grad_fn=<RoundBackward>)"
      ]
     },
     "execution_count": 4,
     "metadata": {},
     "output_type": "execute_result"
    }
   ],
   "source": [
    "k = 30\n",
    "# works well when initialized well, e.g. when const >=0 (param values >= 0.5)\n",
    "const = 0.0\n",
    "mu = torch.ones(k)\n",
    "mu = mu.mul(const)\n",
    "mu.requires_grad_()\n",
    "optimizer = torch.optim.SGD([mu], lr=1e-2)\n",
    "print('mu:', mu)\n",
    "for t in range(0,10000):\n",
    "    x = torch.cat((torch.tensor([1.0]), torch.sigmoid(mu)))\n",
    "    if t == 0:\n",
    "        print('x:', x)\n",
    "    z = torch.cat((x[-1:], x[:-1])) \n",
    "    equi = x * z + (1-x) * (1-z)\n",
    "    all_equi = torch.prod(equi)\n",
    "    loss = -torch.log(all_equi)\n",
    "    optimizer.zero_grad()\n",
    "    loss.backward()\n",
    "    optimizer.step()\n",
    "torch.round(x*100)"
   ]
  },
  {
   "cell_type": "code",
   "execution_count": 5,
   "metadata": {},
   "outputs": [],
   "source": [
    "mu = torch.randn(k,  requires_grad=True)"
   ]
  },
  {
   "cell_type": "code",
   "execution_count": 6,
   "metadata": {},
   "outputs": [
    {
     "data": {
      "text/plain": [
       "(tensor(0.3082, grad_fn=<NegBackward>),\n",
       " tensor([100.,  99.,  99.,  99.,  99.,  99.,  99.,  99.,  99.,  99.,  99.,  99.,\n",
       "          99.,  99.,  99.,  99.,  99.,  99.,  99.,  99.,  99.,  99.,  99.,  99.,\n",
       "          99.,  99.,  99.,  99.,  99.,  99.,  99.], grad_fn=<RoundBackward>))"
      ]
     },
     "execution_count": 6,
     "metadata": {},
     "output_type": "execute_result"
    }
   ],
   "source": [
    "optimizer = torch.optim.SGD([mu], lr=1e-2)\n",
    "for t in range(0,10000):\n",
    "    x = torch.cat((torch.tensor([1.0]), torch.sigmoid(mu)))\n",
    "    all_equi = torch.prod(x) + torch.prod(1.0 - x)\n",
    "    loss = -torch.log(all_equi)\n",
    "    optimizer.zero_grad()\n",
    "    loss.backward()\n",
    "    optimizer.step()\n",
    "loss, torch.round(x*100)"
   ]
  },
  {
   "cell_type": "code",
   "execution_count": 7,
   "metadata": {},
   "outputs": [
    {
     "data": {
      "text/plain": [
       "(tensor(2.2215e-11, grad_fn=<ThMulBackward>),\n",
       " tensor(1.3803e-10, grad_fn=<ThAddBackward>),\n",
       " tensor(0.0000, grad_fn=<ThAddBackward>))"
      ]
     },
     "execution_count": 7,
     "metadata": {},
     "output_type": "execute_result"
    }
   ],
   "source": [
    "mu = torch.randn(k,  requires_grad=True)\n",
    "x = torch.cat((torch.tensor([1.0]), torch.sigmoid(mu)))\n",
    "def compute_all_equi(x):\n",
    "    all_equi_true = 1.0\n",
    "    all_equi_false = 1.0\n",
    "    for i in range(0,k+1):\n",
    "        prev = i-1 % k\n",
    "        all_equi_true = all_equi_true * x[i]\n",
    "        all_equi_false = all_equi_false * (1-x[i])\n",
    "    return all_equi_false + all_equi_true\n",
    "\n",
    "def compute_all_equi_uncorrected(x):\n",
    "    all_equi_dumb = 1.0\n",
    "    for i in range(0,k+1):\n",
    "        prev = i-1 % k\n",
    "        all_equi_dumb = all_equi_dumb * ((x[i] * x[prev]) + (1-x[i]) * (1-x[prev]))\n",
    "    return all_equi_dumb\n",
    "\n",
    "def compute_all_equi_corrected(x):\n",
    "    all_equi_dumb = 1.0\n",
    "    for i in range(0,k+1):\n",
    "        prev = i-1 % k\n",
    "        \n",
    "        all_equi_dumb = all_equi_dumb * ((x[i] * x[prev]) + (1-x[i]) * (1-x[prev]))\n",
    "        all_equi_dumb += all_equi_dumb * ((x[i] * (1-x[prev])) + (1-x[i]) * x[prev])\n",
    "    return all_equi_dumb\n",
    "\n",
    "compute_all_equi_uncorrected(x), compute_all_equi(x), compute_all_equi_corrected(x)"
   ]
  },
  {
   "cell_type": "code",
   "execution_count": 8,
   "metadata": {},
   "outputs": [
    {
     "data": {
      "text/plain": [
       "(tensor(6.3693, grad_fn=<NegBackward>),\n",
       " tensor([100.,  99.,  98.,  54.,   7.,   3.,  49.,  96.,  98.,  99.,  99.,  99.,\n",
       "          98.,  98.,  98.,  98.,  98.,  99.,  99.,  99.,  99.,  99.,  99.,  98.,\n",
       "          51.,   3.,   2.,   3.,  49.,  96.,  99.], grad_fn=<RoundBackward>))"
      ]
     },
     "execution_count": 8,
     "metadata": {},
     "output_type": "execute_result"
    }
   ],
   "source": [
    "mu = torch.randn(k,  requires_grad=True)\n",
    "optimizer = torch.optim.SGD([mu], lr=1e-1)\n",
    "for t in range(0,400):\n",
    "    x = torch.cat((torch.tensor([1.0]), torch.sigmoid(mu)))\n",
    "#     print(x)\n",
    "#     all_equi = compute_all_equi(x)\n",
    "    all_equi = compute_all_equi_uncorrected(x)\n",
    "    loss = -torch.log(all_equi)\n",
    "    optimizer.zero_grad()\n",
    "    loss.backward()\n",
    "    optimizer.step()\n",
    "#     print(loss)\n",
    "\n",
    "loss, torch.round(x*100)"
   ]
  },
  {
   "cell_type": "code",
   "execution_count": null,
   "metadata": {},
   "outputs": [],
   "source": []
  },
  {
   "cell_type": "code",
   "execution_count": 78,
   "metadata": {},
   "outputs": [
    {
     "data": {
      "text/plain": [
       "(tensor(0.1128), tensor(0.0531))"
      ]
     },
     "execution_count": 78,
     "metadata": {},
     "output_type": "execute_result"
    }
   ],
   "source": [
    "eq_12 = x[0] * x[1] + (1-x[0])*(1 - x[1])\n",
    "eq_12_true = x[0] * x[1]\n",
    "eq_12_false = (1-x[0]) * (1-x[1])\n",
    "eq_123_true =  eq_12_true * x[2]\n",
    "eq_123_false = eq_12_false * (1-x[2])\n",
    "eq_23_true = x[1] * x[2]\n",
    "eq_23_false = (1-x[1])*(1-x[2])\n",
    "eq_123_true, eq_12_true * eq_23_true"
   ]
  }
 ],
 "metadata": {
  "kernelspec": {
   "display_name": "Python 3",
   "language": "python",
   "name": "python3"
  },
  "language_info": {
   "codemirror_mode": {
    "name": "ipython",
    "version": 3
   },
   "file_extension": ".py",
   "mimetype": "text/x-python",
   "name": "python",
   "nbconvert_exporter": "python",
   "pygments_lexer": "ipython3",
   "version": "3.6.0"
  }
 },
 "nbformat": 4,
 "nbformat_minor": 2
}
